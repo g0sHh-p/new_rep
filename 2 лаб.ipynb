{
 "cells": [
  {
   "cell_type": "markdown",
   "id": "e787ff7c",
   "metadata": {},
   "source": [
    "2 ЛАБОРАТОРНАЯ\n",
    "ЦИКЛЫ"
   ]
  },
  {
   "cell_type": "markdown",
   "id": "24ca0885",
   "metadata": {},
   "source": [
    "Циклы"
   ]
  },
  {
   "cell_type": "code",
   "execution_count": null,
   "id": "bb594536",
   "metadata": {},
   "outputs": [],
   "source": [
    "#1 задание\n",
    "print(\"таблица умножения от 1 до 9\".center(70))\n",
    "for i in range(1, 10):\n",
    "    print(\"\\n\", end=\"\")\n",
    "    for j in range(1, 10):\n",
    "        print(f\"{j}×{i}={i*j:2d}\", end=\"  \")"
   ]
  },
  {
   "cell_type": "code",
   "execution_count": null,
   "id": "2b583397",
   "metadata": {},
   "outputs": [],
   "source": [
    "#2 задание\n",
    "sum = 0\n",
    "for num in range(1,101):\n",
    "    if num % 2 != 0:\n",
    "        sum += num\n",
    "print(f\"Сумма нечетных чисел от 1 до 100 == {sum}\")"
   ]
  },
  {
   "cell_type": "code",
   "execution_count": null,
   "id": "217e533a",
   "metadata": {},
   "outputs": [],
   "source": [
    "#3 задание\n",
    "n = int(input(\"Ведите число n\"))\n",
    "dels = list()\n",
    "for i in range(1,n):\n",
    "    if n % i == 0:\n",
    "        dels.append(i)\n",
    "print(f\"Все делитель числа {n} -- \",dels)\n"
   ]
  },
  {
   "cell_type": "code",
   "execution_count": null,
   "id": "4c433de8",
   "metadata": {},
   "outputs": [],
   "source": [
    "#4 задание\n",
    "n = int(input(\"Ведите число n\"))\n",
    "fact = 1\n",
    "for i in range(1,n+1):\n",
    "    fact *= i\n",
    "print(f\"факториал числа {n} == {fact}\")"
   ]
  },
  {
   "cell_type": "code",
   "execution_count": null,
   "id": "35571675",
   "metadata": {},
   "outputs": [],
   "source": [
    "#5 задание\n",
    "n = int(input(\"Ведите число n\"))\n",
    "a,b = 0,1\n",
    "for num in range(n):\n",
    "    print(a, end = \" \")\n",
    "    a,b = b, a + b\n",
    "    "
   ]
  },
  {
   "cell_type": "markdown",
   "id": "0d8fc253",
   "metadata": {},
   "source": [
    "Списки\n"
   ]
  },
  {
   "cell_type": "code",
   "execution_count": null,
   "id": "100ad6c1",
   "metadata": {},
   "outputs": [],
   "source": [
    "#0 задание\n",
    "import random\n",
    "numbers = [random.randint(-50, 50) for _ in range(10)]\n",
    "print(numbers)"
   ]
  },
  {
   "cell_type": "code",
   "execution_count": null,
   "id": "acef7c8a",
   "metadata": {},
   "outputs": [],
   "source": [
    "#1 задание\n",
    "for i in range(len(numbers)):\n",
    "    if i % 2 == 0:\n",
    "        print(numbers[i])"
   ]
  },
  {
   "cell_type": "code",
   "execution_count": null,
   "id": "ed4f8074",
   "metadata": {},
   "outputs": [],
   "source": [
    "#2 задание\n",
    "max = numbers[0]\n",
    "min = numbers[0]\n",
    "for num in numbers:\n",
    "    if num > max:\n",
    "        max = num\n",
    "    if num < min:\n",
    "        min = num\n",
    "print(max,min)"
   ]
  },
  {
   "cell_type": "code",
   "execution_count": null,
   "id": "87e94394",
   "metadata": {},
   "outputs": [],
   "source": [
    "#3 задание\n",
    "nums = list(map(int,input(\"Введите 5 чисел(через пробел)\").split()))\n",
    "for i in range(len(nums)):\n",
    "    for j in range(len(nums)-1):\n",
    "        if nums[j] > nums[j+1]:\n",
    "            nums[j],nums[j+1] = nums[j+1],nums[j]\n",
    "print(nums)"
   ]
  },
  {
   "cell_type": "code",
   "execution_count": null,
   "id": "4397f291",
   "metadata": {},
   "outputs": [],
   "source": [
    "#4 задание\n",
    "nums = [1,1,1,2,9,9,0,2,4,5,5,7,6,7]\n",
    "uniq = []\n",
    "for num in nums:\n",
    "    if num not in uniq:\n",
    "        uniq.append(num)\n",
    "print(uniq) "
   ]
  },
  {
   "cell_type": "code",
   "execution_count": null,
   "id": "f3e186cf",
   "metadata": {},
   "outputs": [],
   "source": [
    "#5 задание\n",
    "print(numbers)\n",
    "numbers[0],numbers[-1] = numbers[-1],numbers[0]\n",
    "print(numbers)"
   ]
  },
  {
   "cell_type": "markdown",
   "id": "7924bf21",
   "metadata": {},
   "source": [
    "Словари\n"
   ]
  },
  {
   "cell_type": "code",
   "execution_count": null,
   "id": "12f8afc2",
   "metadata": {},
   "outputs": [],
   "source": [
    "#1 задание\n",
    "students = {\n",
    "    \"Иван Иванов\": 85,\n",
    "    \"Мария Петрова\": 92,\n",
    "    \"Алексей Сидоров\": 78,\n",
    "    \"Елена Кузнецова\": 95,\n",
    "    \"Дмитрий Попов\": 88,\n",
    "    \"Ольга Васильева\": 91\n",
    "}\n",
    "\n",
    "grades = students.values()\n",
    "avg = 0\n",
    "for i in students.values():\n",
    "    avg += i\n",
    "print(round(avg / len(students.values()),2))\n"
   ]
  },
  {
   "cell_type": "code",
   "execution_count": null,
   "id": "6d46bce9",
   "metadata": {},
   "outputs": [],
   "source": [
    "#2 задание\n",
    "string = input(\"Введите строку\")\n",
    "d = {}\n",
    "for char in string:\n",
    "    if char not in d:\n",
    "        d[char] = 1\n",
    "    else:\n",
    "        d[char] += 1\n",
    "        \n",
    "print(d)"
   ]
  },
  {
   "cell_type": "code",
   "execution_count": null,
   "id": "cf9754ea",
   "metadata": {},
   "outputs": [],
   "source": [
    "#3 задание\n",
    "d = {i:i**2 for i in range(1,11)}\n",
    "print(d)"
   ]
  },
  {
   "cell_type": "code",
   "execution_count": null,
   "id": "d9bad255",
   "metadata": {},
   "outputs": [],
   "source": [
    "#4 задание\n",
    "keys = [1,2,3,4,5,6]\n",
    "values = [\"a\",\"b\",\"c\",\"d\",\"e\",\"f\"]\n",
    "res = dict(zip(keys, values))\n",
    "print(res)"
   ]
  },
  {
   "cell_type": "markdown",
   "id": "ad04d353",
   "metadata": {},
   "source": [
    "Множества"
   ]
  },
  {
   "cell_type": "code",
   "execution_count": null,
   "id": "752ec286",
   "metadata": {},
   "outputs": [],
   "source": [
    "#1 задание\n",
    "set1 = {1,2,4,5,8,0}\n",
    "set2 = {1,9,8,7,4,5}\n",
    "print(set1.union(set2))\n",
    "print(set.intersection(set2))"
   ]
  },
  {
   "cell_type": "code",
   "execution_count": null,
   "id": "6893567b",
   "metadata": {},
   "outputs": [],
   "source": [
    "#2 задание\n",
    "text = input().split(\" \")\n",
    "print(set(text))\n"
   ]
  },
  {
   "cell_type": "code",
   "execution_count": null,
   "id": "8c5a0e33",
   "metadata": {},
   "outputs": [],
   "source": [
    "#3 задание\n",
    "l1 = [1,2,0,9,4,5]\n",
    "l2 = [2,9,0,6,7,12]\n",
    "print(set(l1).intersection(set(l2)))"
   ]
  },
  {
   "cell_type": "code",
   "execution_count": null,
   "id": "9f862cb5",
   "metadata": {},
   "outputs": [],
   "source": [
    "#4 задание\n",
    "set1 = {1,2,3}\n",
    "set2 = {4,5,6,1,2,3}\n",
    "print(set1.issubset(set2))"
   ]
  },
  {
   "cell_type": "code",
   "execution_count": null,
   "id": "37678198",
   "metadata": {},
   "outputs": [],
   "source": [
    "#5 задание\n",
    "n = int(input())\n",
    "set1 = {1,2,3,4,5,6,7,8,9,0,10}\n",
    "print({i for i in set1 if i > n})"
   ]
  },
  {
   "cell_type": "markdown",
   "id": "44cfb21d",
   "metadata": {},
   "source": [
    "Комбинированные задания"
   ]
  },
  {
   "cell_type": "code",
   "execution_count": null,
   "id": "8e1bdbb8",
   "metadata": {},
   "outputs": [],
   "source": [
    "#1\n",
    "import random\n",
    "numbers = [random.randint(-50, 50) for _ in range(10)]\n",
    "print(set(numbers))"
   ]
  },
  {
   "cell_type": "code",
   "execution_count": null,
   "id": "62d7bc6c",
   "metadata": {},
   "outputs": [],
   "source": [
    "#2\n",
    "nums = [1,1,1,2,9,9,0,2,4,5,5,7,6,7]\n",
    "d = {i:nums.count(i) for i in nums}\n",
    "print(d)"
   ]
  },
  {
   "cell_type": "code",
   "execution_count": null,
   "id": "11d2e0b7",
   "metadata": {},
   "outputs": [],
   "source": [
    "#3\n",
    "words = [\"apple\", \"banana\", \"cat\", \"dog\", \"elephant\", \"python\", \"programming\", \"hi\"]\n",
    "print({i for i in words if len(i) > 5})"
   ]
  },
  {
   "cell_type": "code",
   "execution_count": null,
   "id": "c87ff2b1",
   "metadata": {},
   "outputs": [],
   "source": [
    "#4\n",
    "string = input().split(\" \")\n",
    "print({i:string.count(i) for i in string})"
   ]
  },
  {
   "cell_type": "code",
   "execution_count": null,
   "id": "973e8942",
   "metadata": {},
   "outputs": [],
   "source": [
    "#5\n",
    "nums = [1,1,1,2,9,9,0,2,4,5,5,7,6,7]\n",
    "print(list(set(nums)))"
   ]
  },
  {
   "cell_type": "code",
   "execution_count": null,
   "id": "96865084",
   "metadata": {},
   "outputs": [],
   "source": [
    "#6\n",
    "products = {\n",
    "    \"яблоки\": 100,\n",
    "    \"бананы\": 150,\n",
    "    \"молоко\": 80,\n",
    "    \"хлеб\": 50,\n",
    "    \"сыр\": 300,\n",
    "    \"кофе\": 500\n",
    "}\n",
    "\n",
    "max_val = 0\n",
    "exp = \"\"\n",
    "for key,val in products.items():\n",
    "    if val > max_val:\n",
    "        max_val = val\n",
    "        exp = key\n",
    "        \n",
    "print(exp)\n",
    "        "
   ]
  },
  {
   "cell_type": "code",
   "execution_count": null,
   "id": "81e6fa54",
   "metadata": {},
   "outputs": [],
   "source": [
    "#7\n",
    "names = [\"Анна\", \"Иван\", \"Мария\", \"Иван\", \"Петр\", \"Анна\", \"Ольга\", \"Мария\", \"Иван\"]\n",
    "\n",
    "max_name = \"\"\n",
    "max_count = 0\n",
    "s = set()\n",
    "\n",
    "for name in names:\n",
    "    if names.count(name) > 1:\n",
    "        s.add(name)\n",
    "    if names.count(name) > max_count:\n",
    "        max_count = names.count(name)\n",
    "        max_name = name\n",
    "print(s)\n",
    "print(max_name)"
   ]
  },
  {
   "cell_type": "code",
   "execution_count": null,
   "id": "5b3260b9",
   "metadata": {},
   "outputs": [],
   "source": [
    "#8\n",
    "string = input()\n",
    "d = dict()\n",
    "\n",
    "for i in range(len(string)):\n",
    "    if i not in d:\n",
    "        d[string[i]] = i\n",
    "print(d)"
   ]
  }
 ],
 "metadata": {
  "kernelspec": {
   "display_name": "Python 3",
   "language": "python",
   "name": "python3"
  },
  "language_info": {
   "codemirror_mode": {
    "name": "ipython",
    "version": 3
   },
   "file_extension": ".py",
   "mimetype": "text/x-python",
   "name": "python",
   "nbconvert_exporter": "python",
   "pygments_lexer": "ipython3",
   "version": "3.12.1"
  }
 },
 "nbformat": 4,
 "nbformat_minor": 5
}
